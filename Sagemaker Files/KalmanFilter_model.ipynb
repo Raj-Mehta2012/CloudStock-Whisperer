{
 "cells": [
  {
   "cell_type": "code",
   "execution_count": null,
   "id": "9dff11e2-b389-4eb8-b531-df98f7097233",
   "metadata": {},
   "outputs": [],
   "source": [
    "### AUTHOR: RAJ MEHTA\n",
    "### Visit my profile : https://rajmehta.info/\n",
    "### Github: https://github.com/Raj-Mehta2012\n",
    "### LinkedIn: https://www.linkedin.com/in/raj-kamlesh-mehta/"
   ]
  },
  {
   "cell_type": "code",
   "execution_count": 21,
   "id": "8161e8fd-7e02-44e7-8273-b2b2c75d4b0e",
   "metadata": {
    "tags": []
   },
   "outputs": [
    {
     "name": "stdout",
     "output_type": "stream",
     "text": [
      "Loaded data from: META_processed_data/part-00000-ea8b0691-99f2-47f5-8810-6951e1fa4342-c000.csv\n"
     ]
    }
   ],
   "source": [
    "import io\n",
    "import boto3\n",
    "import os\n",
    "import pandas as pd\n",
    "import sagemaker\n",
    "from sagemaker.inputs import TrainingInput\n",
    "from sagemaker.image_uris import retrieve\n",
    "from sagemaker import get_execution_role\n",
    "\n",
    "# Setup S3 client\n",
    "s3_bucket = \"processed-meta-prices\"\n",
    "s3_client = boto3.client(\"s3\")\n",
    "\n",
    "# List all objects in the bucket (assuming only one .csv file)\n",
    "try:\n",
    "    bucket_objects = s3_client.list_objects_v2(Bucket=s3_bucket)[\"Contents\"]\n",
    "except Exception as e:\n",
    "    print(f\"Error listing objects in S3 bucket: {e}\")\n",
    "    exit()\n",
    "\n",
    "if not bucket_objects:\n",
    "    print(\"No objects found in the bucket.\")\n",
    "    exit()  # Exit the script if no objects exist\n",
    "\n",
    "# Assuming the first object is the CSV file\n",
    "file_key = bucket_objects[0][\"Key\"]\n",
    "\n",
    "# Download data from S3\n",
    "try:\n",
    "    response = s3_client.get_object(Bucket=s3_bucket, Key=file_key)\n",
    "    data = response[\"Body\"].read()\n",
    "except Exception as e:\n",
    "    print(f\"Error downloading data from S3 for {file_key}: {e}\")\n",
    "    exit()\n",
    "\n",
    "# Load data into DataFrame\n",
    "try:\n",
    "    df = pd.read_csv(io.BytesIO(data))\n",
    "    print(f\"Loaded data from: {file_key}\")\n",
    "except Exception as e:\n",
    "    print(f\"Error loading data into DataFrame for {file_key}: {e}\")\n",
    "    exit()"
   ]
  },
  {
   "cell_type": "code",
   "execution_count": 22,
   "id": "39ca67e2-e82e-4d05-9cef-2c3cb9a5099f",
   "metadata": {
    "tags": []
   },
   "outputs": [],
   "source": [
    "# Prepare the dataset (the target is the next day's closing price)\n",
    "df['Target'] = df['Adj Close'].shift(-1)\n",
    "df.dropna(inplace=True)\n",
    "\n",
    "# Split data into train and test sets (75-25 split)\n",
    "train_size = int(len(df) * 0.75)\n",
    "train_data = df.iloc[:train_size]\n",
    "test_data = df.iloc[train_size:]\n",
    "\n",
    "# Save split data locally\n",
    "train_data.to_csv('train.csv', header=False, index=False)\n",
    "test_data.to_csv('test.csv', header=False, index=False)"
   ]
  },
  {
   "cell_type": "code",
   "execution_count": 23,
   "id": "2863cb56-4965-4e17-95a2-58fa2f54e248",
   "metadata": {
    "tags": []
   },
   "outputs": [
    {
     "name": "stderr",
     "output_type": "stream",
     "text": [
      "INFO:sagemaker:Created S3 bucket: sagemaker-us-east-2-149023223962\n",
      "INFO:sagemaker.image_uris:Ignoring unnecessary instance type: None.\n"
     ]
    }
   ],
   "source": [
    "# Upload split data to S3\n",
    "session = sagemaker.Session()\n",
    "bucket = session.default_bucket()\n",
    "prefix = 'stock-data'\n",
    "train_path = os.path.join(prefix, 'train/train.csv')\n",
    "test_path = os.path.join(prefix, 'test/test.csv')\n",
    "boto3.resource('s3').Bucket(bucket).Object(train_path).upload_file('train.csv')\n",
    "boto3.resource('s3').Bucket(bucket).Object(test_path).upload_file('test.csv')\n",
    "\n",
    "# Set up SageMaker estimator for XGBoost\n",
    "role = get_execution_role()\n",
    "container = retrieve('xgboost', boto3.Session().region_name, '1.3-1')\n",
    "\n",
    "xgb = sagemaker.estimator.Estimator(container,\n",
    "                                    role,\n",
    "                                    instance_count=1,\n",
    "                                    instance_type='ml.m4.xlarge',\n",
    "                                    output_path='s3://{}/{}/output'.format(bucket, prefix),\n",
    "                                    sagemaker_session=session)"
   ]
  },
  {
   "cell_type": "code",
   "execution_count": 24,
   "id": "e8e760d6-0fec-4a8a-841f-0436754998e9",
   "metadata": {
    "tags": []
   },
   "outputs": [],
   "source": [
    "xgb.set_hyperparameters(max_depth=5,\n",
    "                        eta=0.2,\n",
    "                        gamma=4,\n",
    "                        min_child_weight=6,\n",
    "                        subsample=0.8,\n",
    "                        verbosity=1,  # Updated from silent to verbosity\n",
    "                        objective='reg:squarederror',\n",
    "                        num_round=100)"
   ]
  },
  {
   "cell_type": "code",
   "execution_count": 25,
   "id": "7b0888b4-e0d4-4af9-a944-a2a84d1fcda1",
   "metadata": {
    "tags": []
   },
   "outputs": [],
   "source": [
    "# Specify input data\n",
    "s3_input_train = TrainingInput('s3://{}/{}'.format(bucket, train_path), content_type='csv')\n",
    "s3_input_test = TrainingInput('s3://{}/{}'.format(bucket, test_path), content_type='csv')"
   ]
  },
  {
   "cell_type": "code",
   "execution_count": 26,
   "id": "7c52a944-4b6d-41cc-add1-953a0a5a1a20",
   "metadata": {
    "tags": []
   },
   "outputs": [
    {
     "name": "stderr",
     "output_type": "stream",
     "text": [
      "INFO:sagemaker:Creating training-job with name: sagemaker-xgboost-2024-05-03-14-38-09-835\n"
     ]
    },
    {
     "name": "stdout",
     "output_type": "stream",
     "text": [
      "2024-05-03 14:38:10 Starting - Starting the training job...\n",
      "2024-05-03 14:38:24 Starting - Preparing the instances for training...\n",
      "2024-05-03 14:38:58 Downloading - Downloading input data...\n",
      "2024-05-03 14:39:33 Downloading - Downloading the training image......\n",
      "2024-05-03 14:40:34 Training - Training image download completed. Training in progress.\n",
      "2024-05-03 14:40:34 Uploading - Uploading generated training model\u001b[34m[2024-05-03 14:40:29.238 ip-10-0-207-200.us-east-2.compute.internal:7 INFO utils.py:28] RULE_JOB_STOP_SIGNAL_FILENAME: None\u001b[0m\n",
      "\u001b[34m[2024-05-03 14:40:29.268 ip-10-0-207-200.us-east-2.compute.internal:7 INFO profiler_config_parser.py:111] User has disabled profiler.\u001b[0m\n",
      "\u001b[34m[2024-05-03:14:40:29:INFO] Imported framework sagemaker_xgboost_container.training\u001b[0m\n",
      "\u001b[34m[2024-05-03:14:40:29:INFO] Failed to parse hyperparameter objective value reg:squarederror to Json.\u001b[0m\n",
      "\u001b[34mReturning the value itself\u001b[0m\n",
      "\u001b[34m[2024-05-03:14:40:29:INFO] No GPUs detected (normal if no gpus installed)\u001b[0m\n",
      "\u001b[34m[2024-05-03:14:40:29:INFO] Running XGBoost Sagemaker in algorithm mode\u001b[0m\n",
      "\u001b[34m[2024-05-03:14:40:29:INFO] Determined delimiter of CSV input is ','\u001b[0m\n",
      "\u001b[34m[2024-05-03:14:40:29:INFO] Determined delimiter of CSV input is ','\u001b[0m\n",
      "\u001b[34m[2024-05-03:14:40:29:INFO] files path: /opt/ml/input/data/train\u001b[0m\n",
      "\u001b[34m[2024-05-03:14:40:29:INFO] Determined delimiter of CSV input is ','\u001b[0m\n",
      "\u001b[34m[2024-05-03:14:40:29:INFO] files path: /opt/ml/input/data/validation\u001b[0m\n",
      "\u001b[34m[2024-05-03:14:40:29:INFO] Determined delimiter of CSV input is ','\u001b[0m\n",
      "\u001b[34m[2024-05-03:14:40:29:INFO] Single node training.\u001b[0m\n",
      "\u001b[34m[2024-05-03:14:40:29:INFO] Train matrix has 187 rows and 2 columns\u001b[0m\n",
      "\u001b[34m[2024-05-03:14:40:29:INFO] Validation matrix has 63 rows\u001b[0m\n",
      "\u001b[34m[2024-05-03 14:40:29.347 ip-10-0-207-200.us-east-2.compute.internal:7 INFO json_config.py:92] Creating hook from json_config at /opt/ml/input/config/debughookconfig.json.\u001b[0m\n",
      "\u001b[34m[2024-05-03 14:40:29.347 ip-10-0-207-200.us-east-2.compute.internal:7 INFO hook.py:207] tensorboard_dir has not been set for the hook. SMDebug will not be exporting tensorboard summaries.\u001b[0m\n",
      "\u001b[34m[2024-05-03 14:40:29.349 ip-10-0-207-200.us-east-2.compute.internal:7 INFO hook.py:259] Saving to /opt/ml/output/tensors\u001b[0m\n",
      "\u001b[34m[2024-05-03 14:40:29.349 ip-10-0-207-200.us-east-2.compute.internal:7 INFO state_store.py:77] The checkpoint config file /opt/ml/input/config/checkpointconfig.json does not exist.\u001b[0m\n",
      "\u001b[34m[2024-05-03:14:40:29:INFO] Debug hook created from config\u001b[0m\n",
      "\u001b[34m[2024-05-03 14:40:29.364 ip-10-0-207-200.us-east-2.compute.internal:7 INFO hook.py:428] Monitoring the collections: metrics\u001b[0m\n",
      "\u001b[34m[2024-05-03 14:40:29.368 ip-10-0-207-200.us-east-2.compute.internal:7 INFO hook.py:491] Hook is writing from the hook with pid: 7\u001b[0m\n",
      "\u001b[34m[0]#011train-rmse:1619.84216#011validation-rmse:1620.77905\u001b[0m\n",
      "\u001b[34m[1]#011train-rmse:1297.99133#011validation-rmse:1298.92798\u001b[0m\n",
      "\u001b[34m[2]#011train-rmse:1040.15918#011validation-rmse:1041.09546\u001b[0m\n",
      "\u001b[34m[3]#011train-rmse:833.49597#011validation-rmse:834.43237\u001b[0m\n",
      "\u001b[34m[4]#011train-rmse:667.95447#011validation-rmse:668.89093\u001b[0m\n",
      "\u001b[34m[5]#011train-rmse:535.25409#011validation-rmse:536.19067\u001b[0m\n",
      "\u001b[34m[6]#011train-rmse:428.94653#011validation-rmse:429.88321\u001b[0m\n",
      "\u001b[34m[7]#011train-rmse:343.71072#011validation-rmse:344.64740\u001b[0m\n",
      "\u001b[34m[8]#011train-rmse:275.44928#011validation-rmse:276.38596\u001b[0m\n",
      "\u001b[34m[9]#011train-rmse:220.72437#011validation-rmse:221.66100\u001b[0m\n",
      "\u001b[34m[10]#011train-rmse:176.86610#011validation-rmse:177.80276\u001b[0m\n",
      "\u001b[34m[11]#011train-rmse:141.72713#011validation-rmse:142.66388\u001b[0m\n",
      "\u001b[34m[12]#011train-rmse:113.57458#011validation-rmse:114.51137\u001b[0m\n",
      "\u001b[34m[13]#011train-rmse:91.01013#011validation-rmse:91.94697\u001b[0m\n",
      "\u001b[34m[14]#011train-rmse:72.92408#011validation-rmse:73.86098\u001b[0m\n",
      "\u001b[34m[15]#011train-rmse:58.43715#011validation-rmse:59.37415\u001b[0m\n",
      "\u001b[34m[16]#011train-rmse:46.82605#011validation-rmse:47.76319\u001b[0m\n",
      "\u001b[34m[17]#011train-rmse:37.52282#011validation-rmse:38.46011\u001b[0m\n",
      "\u001b[34m[18]#011train-rmse:30.06666#011validation-rmse:31.00412\u001b[0m\n",
      "\u001b[34m[19]#011train-rmse:24.09400#011validation-rmse:25.03169\u001b[0m\n",
      "\u001b[34m[20]#011train-rmse:19.30652#011validation-rmse:20.24449\u001b[0m\n",
      "\u001b[34m[21]#011train-rmse:15.47180#011validation-rmse:16.41012\u001b[0m\n",
      "\u001b[34m[22]#011train-rmse:12.39808#011validation-rmse:13.33681\u001b[0m\n",
      "\u001b[34m[23]#011train-rmse:9.93518#011validation-rmse:10.87442\u001b[0m\n",
      "\u001b[34m[24]#011train-rmse:7.96094#011validation-rmse:8.90079\u001b[0m\n",
      "\u001b[34m[25]#011train-rmse:6.37927#011validation-rmse:7.31984\u001b[0m\n",
      "\u001b[34m[26]#011train-rmse:5.11169#011validation-rmse:6.05312\u001b[0m\n",
      "\u001b[34m[27]#011train-rmse:4.09692#011validation-rmse:5.03934\u001b[0m\n",
      "\u001b[34m[28]#011train-rmse:3.28296#011validation-rmse:4.22651\u001b[0m\n",
      "\u001b[34m[29]#011train-rmse:2.63086#011validation-rmse:3.57569\u001b[0m\n",
      "\u001b[34m[30]#011train-rmse:2.10840#011validation-rmse:3.05465\u001b[0m\n",
      "\u001b[34m[31]#011train-rmse:1.68945#011validation-rmse:2.63726\u001b[0m\n",
      "\u001b[34m[32]#011train-rmse:1.35376#011validation-rmse:2.30321\u001b[0m\n",
      "\u001b[34m[33]#011train-rmse:1.08472#011validation-rmse:2.03588\u001b[0m\n",
      "\u001b[34m[34]#011train-rmse:0.86914#011validation-rmse:1.82204\u001b[0m\n",
      "\u001b[34m[35]#011train-rmse:0.69641#011validation-rmse:1.65103\u001b[0m\n",
      "\u001b[34m[36]#011train-rmse:0.55810#011validation-rmse:1.51437\u001b[0m\n",
      "\u001b[34m[37]#011train-rmse:0.44727#011validation-rmse:1.40509\u001b[0m\n",
      "\u001b[34m[38]#011train-rmse:0.35840#011validation-rmse:1.31767\u001b[0m\n",
      "\u001b[34m[39]#011train-rmse:0.28723#011validation-rmse:1.24780\u001b[0m\n",
      "\u001b[34m[40]#011train-rmse:0.23023#011validation-rmse:1.19194\u001b[0m\n",
      "\u001b[34m[41]#011train-rmse:0.18445#011validation-rmse:1.14717\u001b[0m\n",
      "\u001b[34m[42]#011train-rmse:0.14783#011validation-rmse:1.11142\u001b[0m\n",
      "\u001b[34m[43]#011train-rmse:0.11841#011validation-rmse:1.08273\u001b[0m\n",
      "\u001b[34m[44]#011train-rmse:0.09485#011validation-rmse:1.05979\u001b[0m\n",
      "\u001b[34m[45]#011train-rmse:0.07605#011validation-rmse:1.04150\u001b[0m\n",
      "\u001b[34m[46]#011train-rmse:0.06091#011validation-rmse:1.02680\u001b[0m\n",
      "\u001b[34m[47]#011train-rmse:0.04883#011validation-rmse:1.01506\u001b[0m\n",
      "\u001b[34m[48]#011train-rmse:0.03918#011validation-rmse:1.00570\u001b[0m\n",
      "\u001b[34m[49]#011train-rmse:0.03137#011validation-rmse:0.99812\u001b[0m\n",
      "\u001b[34m[50]#011train-rmse:0.02515#011validation-rmse:0.99209\u001b[0m\n",
      "\u001b[34m[51]#011train-rmse:0.02014#011validation-rmse:0.98724\u001b[0m\n",
      "\u001b[34m[52]#011train-rmse:0.01611#011validation-rmse:0.98333\u001b[0m\n",
      "\u001b[34m[53]#011train-rmse:0.01294#011validation-rmse:0.98026\u001b[0m\n",
      "\u001b[34m[54]#011train-rmse:0.01038#011validation-rmse:0.97778\u001b[0m\n",
      "\u001b[34m[55]#011train-rmse:0.00830#011validation-rmse:0.97577\u001b[0m\n",
      "\u001b[34m[56]#011train-rmse:0.00659#011validation-rmse:0.97411\u001b[0m\n",
      "\u001b[34m[57]#011train-rmse:0.00525#011validation-rmse:0.97281\u001b[0m\n",
      "\u001b[34m[58]#011train-rmse:0.00415#011validation-rmse:0.97175\u001b[0m\n",
      "\u001b[34m[59]#011train-rmse:0.00330#011validation-rmse:0.97092\u001b[0m\n",
      "\u001b[34m[60]#011train-rmse:0.00269#011validation-rmse:0.97033\u001b[0m\n",
      "\u001b[34m[61]#011train-rmse:0.00220#011validation-rmse:0.96986\u001b[0m\n",
      "\u001b[34m[62]#011train-rmse:0.00171#011validation-rmse:0.96939\u001b[0m\n",
      "\u001b[34m[63]#011train-rmse:0.00134#011validation-rmse:0.96903\u001b[0m\n",
      "\u001b[34m[64]#011train-rmse:0.00110#011validation-rmse:0.96880\u001b[0m\n",
      "\u001b[34m[65]#011train-rmse:0.00085#011validation-rmse:0.96856\u001b[0m\n",
      "\u001b[34m[66]#011train-rmse:0.00073#011validation-rmse:0.96844\u001b[0m\n",
      "\u001b[34m[67]#011train-rmse:0.00061#011validation-rmse:0.96832\u001b[0m\n",
      "\u001b[34m[68]#011train-rmse:0.00049#011validation-rmse:0.96821\u001b[0m\n",
      "\u001b[34m[69]#011train-rmse:0.00037#011validation-rmse:0.96809\u001b[0m\n",
      "\u001b[34m[70]#011train-rmse:0.00024#011validation-rmse:0.96797\u001b[0m\n",
      "\u001b[34m[71]#011train-rmse:0.00024#011validation-rmse:0.96797\u001b[0m\n",
      "\u001b[34m[72]#011train-rmse:0.00024#011validation-rmse:0.96797\u001b[0m\n",
      "\u001b[34m[73]#011train-rmse:0.00024#011validation-rmse:0.96797\u001b[0m\n",
      "\u001b[34m[74]#011train-rmse:0.00024#011validation-rmse:0.96797\u001b[0m\n",
      "\u001b[34m[75]#011train-rmse:0.00024#011validation-rmse:0.96797\u001b[0m\n",
      "\u001b[34m[76]#011train-rmse:0.00024#011validation-rmse:0.96797\u001b[0m\n",
      "\u001b[34m[77]#011train-rmse:0.00024#011validation-rmse:0.96797\u001b[0m\n",
      "\u001b[34m[78]#011train-rmse:0.00024#011validation-rmse:0.96797\u001b[0m\n",
      "\u001b[34m[79]#011train-rmse:0.00024#011validation-rmse:0.96797\u001b[0m\n",
      "\u001b[34m[80]#011train-rmse:0.00024#011validation-rmse:0.96797\u001b[0m\n",
      "\u001b[34m[81]#011train-rmse:0.00024#011validation-rmse:0.96797\u001b[0m\n",
      "\u001b[34m[82]#011train-rmse:0.00024#011validation-rmse:0.96797\u001b[0m\n",
      "\u001b[34m[83]#011train-rmse:0.00024#011validation-rmse:0.96797\u001b[0m\n",
      "\u001b[34m[84]#011train-rmse:0.00024#011validation-rmse:0.96797\u001b[0m\n",
      "\u001b[34m[85]#011train-rmse:0.00024#011validation-rmse:0.96797\u001b[0m\n",
      "\u001b[34m[86]#011train-rmse:0.00024#011validation-rmse:0.96797\u001b[0m\n",
      "\u001b[34m[87]#011train-rmse:0.00024#011validation-rmse:0.96797\u001b[0m\n",
      "\u001b[34m[88]#011train-rmse:0.00024#011validation-rmse:0.96797\u001b[0m\n",
      "\u001b[34m[89]#011train-rmse:0.00024#011validation-rmse:0.96797\u001b[0m\n",
      "\u001b[34m[90]#011train-rmse:0.00024#011validation-rmse:0.96797\u001b[0m\n",
      "\u001b[34m[91]#011train-rmse:0.00024#011validation-rmse:0.96797\u001b[0m\n",
      "\u001b[34m[92]#011train-rmse:0.00024#011validation-rmse:0.96797\u001b[0m\n",
      "\u001b[34m[93]#011train-rmse:0.00024#011validation-rmse:0.96797\u001b[0m\n",
      "\u001b[34m[94]#011train-rmse:0.00024#011validation-rmse:0.96797\u001b[0m\n",
      "\u001b[34m[95]#011train-rmse:0.00024#011validation-rmse:0.96797\u001b[0m\n",
      "\u001b[34m[96]#011train-rmse:0.00024#011validation-rmse:0.96797\u001b[0m\n",
      "\u001b[34m[97]#011train-rmse:0.00024#011validation-rmse:0.96797\u001b[0m\n",
      "\u001b[34m[98]#011train-rmse:0.00024#011validation-rmse:0.96797\u001b[0m\n",
      "\u001b[34m[99]#011train-rmse:0.00024#011validation-rmse:0.96797\u001b[0m\n",
      "\n",
      "2024-05-03 14:40:50 Completed - Training job completed\n",
      "Training seconds: 112\n",
      "Billable seconds: 112\n"
     ]
    }
   ],
   "source": [
    "# Fit the model\n",
    "xgb.fit({'train': s3_input_train, 'validation': s3_input_test})"
   ]
  },
  {
   "cell_type": "code",
   "execution_count": 28,
   "id": "ddc43191-4ab5-446c-ac05-16edb45c664a",
   "metadata": {
    "tags": []
   },
   "outputs": [
    {
     "name": "stderr",
     "output_type": "stream",
     "text": [
      "INFO:sagemaker:Creating model with name: sagemaker-xgboost-2024-05-03-14-42-35-929\n",
      "INFO:sagemaker:Creating endpoint-config with name sagemaker-xgboost-2024-05-03-14-42-35-929\n",
      "INFO:sagemaker:Creating endpoint with name sagemaker-xgboost-2024-05-03-14-42-35-929\n"
     ]
    },
    {
     "name": "stdout",
     "output_type": "stream",
     "text": [
      "------!"
     ]
    }
   ],
   "source": [
    "import sagemaker\n",
    "from sagemaker.serializers import CSVSerializer\n",
    "xgb_predictor=xgb.deploy(\n",
    "    initial_instance_count=1,\n",
    "    instance_type='ml.t2.medium',\n",
    "    serializer=CSVSerializer()\n",
    ")"
   ]
  },
  {
   "cell_type": "code",
   "execution_count": 29,
   "id": "ad3767ba-2b23-4c8b-a437-f445fea50725",
   "metadata": {
    "tags": []
   },
   "outputs": [
    {
     "data": {
      "text/plain": [
       "'sagemaker-xgboost-2024-05-03-14-42-35-929'"
      ]
     },
     "execution_count": 29,
     "metadata": {},
     "output_type": "execute_result"
    }
   ],
   "source": [
    "xgb_predictor.endpoint_name"
   ]
  },
  {
   "cell_type": "code",
   "execution_count": null,
   "id": "a1f3c5e2-6a58-44e4-a65a-6241be9bddb3",
   "metadata": {},
   "outputs": [],
   "source": [
    "xgb_predictor.model_name"
   ]
  },
  {
   "cell_type": "code",
   "execution_count": null,
   "id": "c53a8e5c-66eb-4979-a264-b9e60dfd2c0f",
   "metadata": {},
   "outputs": [],
   "source": [
    "# Clean up: shutting down any created resources to prevent extra costs\n",
    "sagemaker.Session().delete_endpoint(xgb_predictor.endpoint_name)\n",
    "sagemaker.Session().delete_model(xgb_predictor.model_data)\n",
    "sagemaker.Session().delete_endpoint_config(xgb_predictor.endpoint_name)"
   ]
  }
 ],
 "metadata": {
  "kernelspec": {
   "display_name": "conda_python3",
   "language": "python",
   "name": "conda_python3"
  },
  "language_info": {
   "codemirror_mode": {
    "name": "ipython",
    "version": 3
   },
   "file_extension": ".py",
   "mimetype": "text/x-python",
   "name": "python",
   "nbconvert_exporter": "python",
   "pygments_lexer": "ipython3",
   "version": "3.10.13"
  }
 },
 "nbformat": 4,
 "nbformat_minor": 5
}
