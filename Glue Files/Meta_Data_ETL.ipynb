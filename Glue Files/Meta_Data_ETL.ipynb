{
	"metadata": {
		"kernelspec": {
			"name": "glue_pyspark",
			"display_name": "Glue PySpark",
			"language": "python"
		},
		"language_info": {
			"name": "Python_Glue_Session",
			"mimetype": "text/x-python",
			"codemirror_mode": {
				"name": "python",
				"version": 3
			},
			"pygments_lexer": "python3",
			"file_extension": ".py"
		}
	},
	"nbformat_minor": 4,
	"nbformat": 4,
	"cells": [
		{
			"cell_type": "markdown",
			"source": "# AWS Glue Studio Notebook\n##### You are now running a AWS Glue Studio notebook; To start using your notebook you need to start an AWS Glue Interactive Session.\n",
			"metadata": {
				"editable": true,
				"trusted": true
			}
		},
		{
			"cell_type": "code",
			"source": "### AUTHOR: RAJ MEHTA\n### Visit my profile : https://rajmehta.info/\n### Github: https://github.com/Raj-Mehta2012\n### LinkedIn: https://www.linkedin.com/in/raj-kamlesh-mehta/",
			"metadata": {},
			"execution_count": null,
			"outputs": []
		},
		{
			"cell_type": "code",
			"source": "#Stopping active sessions, if any\n%stop_session",
			"metadata": {
				"trusted": true,
				"tags": []
			},
			"execution_count": 13,
			"outputs": [
				{
					"name": "stdout",
					"text": "Stopping session: 10bd29c8-aa8a-4161-b9ee-abaac318ad98\nStopped session.\n",
					"output_type": "stream"
				}
			]
		},
		{
			"cell_type": "code",
			"source": "from pyspark.sql import SparkSession\n\nspark = SparkSession.builder.appName(\"Process Prices\").getOrCreate()\n\nprocessed_data_path = \"s3://processed-meta-prices/\"\ninput_path = \"s3://raw-meta-prices/META_stock_data.csv\"\n\n#Debug\nprint(f\"Inputting Data from: {input_path}\")\nprint(f\"Writing processed data to: {processed_data_path}\")\n\nraw_data = spark.read.format(\"csv\").option(\"header\", True).load(input_path)\nprocessed_data = raw_data.select(\"date\", \"Adj Close\")\n\noutput_filename = \"META_processed_data.csv\"  \noutput_path = f\"{processed_data_path}{output_filename}\"\n\nprint(f\"Writing processed data to: {output_path}\")\n\n# Write processed data to S3 (This will overwrite any data which is already present in processed-meta-prices)\nprocessed_data.write.mode(\"overwrite\").format(\"csv\").option(\"header\", True).save(output_path)\n\nspark.stop()",
			"metadata": {
				"trusted": true,
				"tags": []
			},
			"execution_count": 1,
			"outputs": [
				{
					"name": "stdout",
					"text": "Trying to create a Glue session for the kernel.\nSession Type: glueetl\nWorker Type: G.1X\nNumber of Workers: 5\nSession ID: d58e3de6-2e81-48be-b433-fb721b81ff18\nApplying the following default arguments:\n--glue_kernel_version 1.0.4\n--enable-glue-datacatalog true\nWaiting for session d58e3de6-2e81-48be-b433-fb721b81ff18 to get into ready status...\nSession d58e3de6-2e81-48be-b433-fb721b81ff18 has been created.\nInputting Data from: s3://raw-meta-prices/META_stock_data.csv\nWriting processed data to: s3://processed-meta-prices/\nWriting processed data to: s3://processed-meta-prices/META_processed_data.csv\n",
					"output_type": "stream"
				}
			]
		},
		{
			"cell_type": "code",
			"source": "",
			"metadata": {},
			"execution_count": null,
			"outputs": []
		}
	]
}